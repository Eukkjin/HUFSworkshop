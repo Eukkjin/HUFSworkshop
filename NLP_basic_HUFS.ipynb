{
  "nbformat": 4,
  "nbformat_minor": 0,
  "metadata": {
    "colab": {
      "provenance": [],
      "authorship_tag": "ABX9TyNmxkAsNs7o/1NIAy3Fzu23",
      "include_colab_link": true
    },
    "kernelspec": {
      "name": "python3",
      "display_name": "Python 3"
    },
    "language_info": {
      "name": "python"
    }
  },
  "cells": [
    {
      "cell_type": "markdown",
      "metadata": {
        "id": "view-in-github",
        "colab_type": "text"
      },
      "source": [
        "<a href=\"https://colab.research.google.com/github/junkyuhufs/HUFSworkshop/blob/main/NLP_basic_HUFS.ipynb\" target=\"_parent\"><img src=\"https://colab.research.google.com/assets/colab-badge.svg\" alt=\"Open In Colab\"/></a>"
      ]
    },
    {
      "cell_type": "markdown",
      "source": [
        "#NLP basic"
      ],
      "metadata": {
        "id": "bdZaZPCvAGAf"
      }
    },
    {
      "cell_type": "markdown",
      "source": [
        "##Sentence tokenization"
      ],
      "metadata": {
        "id": "8gpRjo2x4bg1"
      }
    },
    {
      "cell_type": "code",
      "source": [
        "sen = 'Life is either a daring adventure or nothing at all.\\nThey must often change who would be constant in happiness or wisdom.'\n",
        "\n",
        "sen_tokens = [x for x in sen.split('\\n')]\n",
        "print(sen_tokens)"
      ],
      "metadata": {
        "id": "mawvtZnj4fLW"
      },
      "execution_count": null,
      "outputs": []
    },
    {
      "cell_type": "markdown",
      "source": [
        "##Word tokenization"
      ],
      "metadata": {
        "id": "WA4yqQii34Rv"
      }
    },
    {
      "cell_type": "code",
      "execution_count": null,
      "metadata": {
        "id": "2J2VFH-E3kRl"
      },
      "outputs": [],
      "source": [
        "m = 'Life is either a daring adventure or nothing at all.'\n",
        "tokens = [x for x in m.split(' ')]\n",
        "print(tokens)"
      ]
    },
    {
      "cell_type": "markdown",
      "source": [
        "##Stopwords"
      ],
      "metadata": {
        "id": "K3ChlOyH5Ur3"
      }
    },
    {
      "cell_type": "code",
      "source": [
        "import nltk\n",
        "nltk.download('punkt')\n",
        "nltk.download('stopwords')\n",
        "\n",
        "from nltk import word_tokenize\n",
        "from nltk.corpus import stopwords\n",
        "\n",
        "stop_words = stopwords.words('english')\n",
        "print(stop_words)"
      ],
      "metadata": {
        "id": "acSFIqNP5UFZ"
      },
      "execution_count": null,
      "outputs": []
    },
    {
      "cell_type": "code",
      "source": [
        "#Stiopword example\n",
        "s = \"Put off for one day and ten days will pass.\"\n",
        "words = word_tokenize(s)\n",
        "print(words)\n",
        "\n",
        "filtered_words = [w for w in words if w not in stop_words]\n",
        "print(filtered_words)"
      ],
      "metadata": {
        "id": "nGWYpTCu5pWu"
      },
      "execution_count": null,
      "outputs": []
    },
    {
      "cell_type": "markdown",
      "source": [
        "##NLTK corpus\n",
        "###저작권이 말소된 문학작품을 포함하는 gutenberg 말뭉치확인"
      ],
      "metadata": {
        "id": "Yn48hj6P6E5u"
      }
    },
    {
      "cell_type": "code",
      "source": [
        "import nltk\n",
        "nltk.download('gutenberg')\n",
        "nltk.corpus.gutenberg.fileids()"
      ],
      "metadata": {
        "id": "F7zxKX7Q6s7G"
      },
      "execution_count": null,
      "outputs": []
    },
    {
      "cell_type": "markdown",
      "source": [
        "###제인 오스틴 Emma"
      ],
      "metadata": {
        "id": "USSusrR_7FxG"
      }
    },
    {
      "cell_type": "code",
      "source": [
        "text = nltk.corpus.gutenberg.raw(\"austen-emma.txt\")\n",
        "print(text[:1302])"
      ],
      "metadata": {
        "id": "I3B8V8cb7GLl"
      },
      "execution_count": null,
      "outputs": []
    },
    {
      "cell_type": "code",
      "source": [
        "from wordcloud import WordCloud, STOPWORDS\n",
        "import matplotlib.pyplot as plt\n",
        "\n",
        "nltk.download('gutenberg')\n",
        "\n",
        "text = nltk.corpus.gutenberg.raw('austen-emma.txt')\n",
        "\n",
        "wc = WordCloud().generate(text)\n",
        "plt.imshow(wc)"
      ],
      "metadata": {
        "id": "aXd2RVeR-QV_"
      },
      "execution_count": null,
      "outputs": []
    },
    {
      "cell_type": "code",
      "source": [
        "import nltk\n",
        "nltk.download('stopwords')\n",
        "\n",
        "from nltk.tokenize import RegexpTokenizer\n",
        "retokenize = RegexpTokenizer(\"[\\w]+\")\n",
        "words = retokenize.tokenize(text)\n",
        "\n",
        "words = retokenize.tokenize(text)"
      ],
      "metadata": {
        "id": "YcRcmsPg7j6G"
      },
      "execution_count": null,
      "outputs": []
    },
    {
      "cell_type": "code",
      "source": [
        "print(len(text))\n",
        "print(len(words))"
      ],
      "metadata": {
        "id": "u7hMH_dS75gP"
      },
      "execution_count": null,
      "outputs": []
    },
    {
      "cell_type": "code",
      "source": [
        "nltk.Text(words).dispersion_plot([\"Knightley\", \"Frank\", \"Jane\", \"Harriet\", \"Robert\", \"Emma\"])"
      ],
      "metadata": {
        "id": "pXyKVu1d9FLv"
      },
      "execution_count": null,
      "outputs": []
    },
    {
      "cell_type": "code",
      "source": [
        "import nltk\n",
        "nltk.download('punkt')\n",
        "nltk.download('stopwords')\n",
        "from nltk.corpus import stopwords\n",
        "\n",
        "no_stop_gutenberg = [w for w in words if not w in stopwords.words('english')]\n",
        "\n",
        "fd_nostop = nltk.FreqDist(no_stop_gutenberg).most_common(20)\n",
        "print(fd_nostop)\n",
        "\n",
        "nltk.Text(no_stop_gutenberg).plot(20)"
      ],
      "metadata": {
        "id": "0UU2edWk9V1l"
      },
      "execution_count": null,
      "outputs": []
    },
    {
      "cell_type": "markdown",
      "source": [
        "##TTS"
      ],
      "metadata": {
        "id": "ZDT3ozd3_IXm"
      }
    },
    {
      "cell_type": "code",
      "source": [
        "!pip install gTTS"
      ],
      "metadata": {
        "id": "t0-wdOHR_LAW"
      },
      "execution_count": null,
      "outputs": []
    },
    {
      "cell_type": "markdown",
      "source": [
        "[Language code](https://developers.google.com/admin-sdk/directory/v1/languages?hl=ko)"
      ],
      "metadata": {
        "id": "uQJA-h4N_Rxm"
      }
    },
    {
      "cell_type": "code",
      "source": [
        "from gtts import gTTS\n",
        "\n",
        "text_to_say = \"This is a sample piece of text read by gTTS.\"\n",
        "\n",
        "language = \"en\"\n",
        "\n",
        "gtts_object = gTTS (text = text_to_say,\n",
        "                    lang = language,\n",
        "                    slow = False)\n",
        "\n",
        "gtts_object.save(\"/content/eng_sample.mp4\")\n",
        "\n",
        "from IPython.display import Audio\n",
        "Audio(\"/content/eng_sample.mp4\")"
      ],
      "metadata": {
        "id": "48zWO3sQ_d6O"
      },
      "execution_count": null,
      "outputs": []
    }
  ]
}